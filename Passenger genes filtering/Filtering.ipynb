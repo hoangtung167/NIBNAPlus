{
 "cells": [
  {
   "cell_type": "markdown",
   "metadata": {
    "id": "ulshZwWuMLIE"
   },
   "source": [
    "# Import Modules"
   ]
  },
  {
   "cell_type": "code",
   "execution_count": 1,
   "metadata": {
    "colab": {
     "base_uri": "https://localhost:8080/"
    },
    "id": "vpkzVRy_L4Ma",
    "outputId": "0ce1bec9-aaf9-465c-ba46-a6f92976bd62",
    "scrolled": true
   },
   "outputs": [],
   "source": [
    "import pandas as pd\n",
    "import numpy as np\n",
    "from pygam import LinearGAM, LogisticGAM, s, f, te\n",
    "import matplotlib.pyplot as plt\n",
    "import random\n",
    "import math\n",
    "import requests\n",
    "import tarfile"
   ]
  },
  {
   "cell_type": "markdown",
   "metadata": {},
   "source": [
    "# Obtain CCDS data\n",
    "The version of CCDS for GRCh37 is Homo Sapiens 37.1 (code Hs 37.1). We need 2 files: </br>\n",
    "1. CCDS.current.txt contains information of gene name, gene id (entrez_gene_id), and CCDS gene ID. \n",
    "2. CCDS_protein.current.faa contains information of CCDS gene id and amino acid sequence (from which we use 3*len(amino acid) as gene_length) \n",
    "\n",
    "The url for obtaining these files from CCDS database: https://ftp.ncbi.nih.gov/pub/CCDS/archive/Hs37.1/\n"
   ]
  },
  {
   "cell_type": "code",
   "execution_count": 2,
   "metadata": {},
   "outputs": [
    {
     "data": {
      "text/html": [
       "<div>\n",
       "<style scoped>\n",
       "    .dataframe tbody tr th:only-of-type {\n",
       "        vertical-align: middle;\n",
       "    }\n",
       "\n",
       "    .dataframe tbody tr th {\n",
       "        vertical-align: top;\n",
       "    }\n",
       "\n",
       "    .dataframe thead th {\n",
       "        text-align: right;\n",
       "    }\n",
       "</style>\n",
       "<table border=\"1\" class=\"dataframe\">\n",
       "  <thead>\n",
       "    <tr style=\"text-align: right;\">\n",
       "      <th></th>\n",
       "      <th>gene</th>\n",
       "      <th>gene_id</th>\n",
       "      <th>ccds_id</th>\n",
       "      <th>cDNA length</th>\n",
       "    </tr>\n",
       "  </thead>\n",
       "  <tbody>\n",
       "    <tr>\n",
       "      <th>0</th>\n",
       "      <td>LINC00115</td>\n",
       "      <td>79854</td>\n",
       "      <td>CCDS1.1</td>\n",
       "      <td>NaN</td>\n",
       "    </tr>\n",
       "    <tr>\n",
       "      <th>1</th>\n",
       "      <td>SAMD11</td>\n",
       "      <td>148398</td>\n",
       "      <td>CCDS2.2</td>\n",
       "      <td>2043.0</td>\n",
       "    </tr>\n",
       "    <tr>\n",
       "      <th>2</th>\n",
       "      <td>NOC2L</td>\n",
       "      <td>26155</td>\n",
       "      <td>CCDS3.1</td>\n",
       "      <td>2247.0</td>\n",
       "    </tr>\n",
       "    <tr>\n",
       "      <th>3</th>\n",
       "      <td>PLEKHN1</td>\n",
       "      <td>84069</td>\n",
       "      <td>CCDS4.1</td>\n",
       "      <td>1833.0</td>\n",
       "    </tr>\n",
       "    <tr>\n",
       "      <th>4</th>\n",
       "      <td>HES4</td>\n",
       "      <td>57801</td>\n",
       "      <td>CCDS5.1</td>\n",
       "      <td>663.0</td>\n",
       "    </tr>\n",
       "  </tbody>\n",
       "</table>\n",
       "</div>"
      ],
      "text/plain": [
       "        gene  gene_id  ccds_id  cDNA length\n",
       "0  LINC00115    79854  CCDS1.1          NaN\n",
       "1     SAMD11   148398  CCDS2.2       2043.0\n",
       "2      NOC2L    26155  CCDS3.1       2247.0\n",
       "3    PLEKHN1    84069  CCDS4.1       1833.0\n",
       "4       HES4    57801  CCDS5.1        663.0"
      ]
     },
     "execution_count": 2,
     "metadata": {},
     "output_type": "execute_result"
    }
   ],
   "source": [
    "# read in the CCDS current file\n",
    "CCDS_current = pd.read_csv(\"CCDS.current_p38.txt\", sep=\"\\t\")\n",
    "CCDS_current = CCDS_current[['gene','gene_id', 'ccds_id']]\n",
    "\n",
    "# process the CCDS protein data\n",
    "ccds_length = dict()\n",
    "with open(\"CCDS_protein.current_p38.faa\", \"r\") as a_file:\n",
    "    for line in a_file:\n",
    "        if line[0] == '>':\n",
    "            index = line.find('|')\n",
    "            ccds_id = line[1:index]\n",
    "            ccds_length[ccds_id] = 0\n",
    "        else:\n",
    "            aa_partial_length = len(line) - 1\n",
    "            ccds_length[ccds_id] = ccds_length[ccds_id] + 3*aa_partial_length\n",
    "\n",
    "data_items = ccds_length.items()\n",
    "data_list = list(data_items)\n",
    "CCDS_cDNA_length = pd.DataFrame(data_list)\n",
    "\n",
    "# joint two table based in ccds_id\n",
    "CCDS_data = pd.merge(CCDS_current, CCDS_cDNA_length, how=\"left\", left_on=['ccds_id'], right_on = [0]).drop(columns=[0]).rename(columns={1:\"cDNA length\"})\n",
    "CCDS_data.head()"
   ]
  },
  {
   "cell_type": "markdown",
   "metadata": {},
   "source": [
    "# Read in TCGA dataset"
   ]
  },
  {
   "cell_type": "code",
   "execution_count": 4,
   "metadata": {
    "colab": {
     "base_uri": "https://localhost:8080/",
     "height": 607
    },
    "id": "sYwfvFpZH_Oz",
    "outputId": "fc8f7d02-9619-4b00-daf5-b15d00c5a75c"
   },
   "outputs": [],
   "source": [
    "TCGA = pd.read_csv(\"data_mutations_extended_TCGA.txt\", sep=\"\\t\")\n",
    "TCGA = pd.merge(TCGA, CCDS_data, how=\"left\", left_on=['Entrez_Gene_Id'], right_on = ['gene_id'])\n",
    "sample_list = set(TCGA['Tumor_Sample_Barcode'].tolist())"
   ]
  },
  {
   "cell_type": "markdown",
   "metadata": {},
   "source": [
    "# Perform filtering for each sample\n"
   ]
  },
  {
   "cell_type": "code",
   "execution_count": 7,
   "metadata": {},
   "outputs": [],
   "source": [
    "def sample_filter(sample_id):\n",
    "    # generate the mutation status for every CCDS gene for each sample\n",
    "    mutation_data = TCGA.loc[TCGA['Tumor_Sample_Barcode'] == sample_id].reset_index()\n",
    "    mutation_list = mutation_data['Entrez_Gene_Id'].tolist()\n",
    "    all_ccds_gene = CCDS_data.copy()\n",
    "    all_ccds_gene['mutation status'] = 0\n",
    "    for i in range(len(all_ccds_gene)):\n",
    "        gene_id = all_ccds_gene.loc[i]['gene_id']\n",
    "        if gene_id in mutation_list:\n",
    "            all_ccds_gene.at[i, 'mutation status'] = 1\n",
    "\n",
    "    # prepare the dataset\n",
    "    all_ccds_gene = all_ccds_gene.dropna() #drop genes without reported cDNA length\n",
    "    all_ccds_gene = all_ccds_gene.sort_values(by='cDNA length', ascending=False)\n",
    "    all_ccds_gene = all_ccds_gene.drop_duplicates(subset='gene', keep=\"first\")\n",
    "\n",
    "    gene_X = all_ccds_gene['cDNA length']\n",
    "    gene_Y = all_ccds_gene['mutation status']\n",
    "\n",
    "    # Fit using logistic GAM. F is monotonic increase cubic spline with 6 knots\n",
    "    lgam = LogisticGAM(s(0, n_splines = 7, spline_order = 4, constraints = 'monotonic_inc')).fit(gene_X, gene_Y)\n",
    "\n",
    "    # Find the PMV with reverse logit function\n",
    "    fitted_value = lgam.partial_dependence(term=0, X=gene_X)\n",
    "    pmv = [math.exp(x)/(1+math.exp(x)) for x in fitted_value]\n",
    "    all_ccds_gene['PMV'] = pmv\n",
    "\n",
    "    # resample\n",
    "    all_ccds_gene['Number of sample contain'] = [0] *len(all_ccds_gene) #store the number of sample containing that gene as mutatated gene\n",
    "    gene_list = all_ccds_gene['gene'].tolist()\n",
    "\n",
    "    for i in range(1000):\n",
    "        sample_gene = all_ccds_gene.sample(n=max([50, len(mutation_list)]), replace=False, weights=pmv)\n",
    "        selected_genes = sample_gene['gene'].tolist()\n",
    "        for gene in selected_genes:\n",
    "            all_ccds_gene.loc[all_ccds_gene['gene'] == gene, 'Number of sample contain'] += 1\n",
    "\n",
    "    # Filtering out mutgenes (status = 1) that have >= 50 count \n",
    "    final_mut_gene = all_ccds_gene.loc[all_ccds_gene['mutation status']==1]\n",
    "    return all_ccds_gene"
   ]
  },
  {
   "cell_type": "code",
   "execution_count": null,
   "metadata": {},
   "outputs": [
    {
     "name": "stdout",
     "output_type": "stream",
     "text": [
      "did not converge\n"
     ]
    },
    {
     "name": "stderr",
     "output_type": "stream",
     "text": [
      "C:\\ProgramData\\Anaconda3\\lib\\site-packages\\pygam\\links.py:149: RuntimeWarning: divide by zero encountered in true_divide\n",
      "  return dist.levels/(mu*(dist.levels - mu))\n",
      "C:\\ProgramData\\Anaconda3\\lib\\site-packages\\pygam\\pygam.py:591: RuntimeWarning: invalid value encountered in multiply\n",
      "  return sp.sparse.diags((self.link.gradient(mu, self.distribution)**2 *\n"
     ]
    }
   ],
   "source": [
    "import time\n",
    "start_time = time.time()\n",
    "passenger_gene = list()\n",
    "for sample_id in sample_list:\n",
    "    all_ccds_gene = sample_filter(sample_id)\n",
    "    final_mut_gene = all_ccds_gene.loc[all_ccds_gene['mutation status'] == 1].loc[all_ccds_gene['Number of sample contain'] >= 50]\n",
    "    filtered_gene = final_mut_gene['gene'].tolist()\n",
    "    passenger_gene = passenger_gene + filtered_gene\n",
    "print(\"--- %s seconds ---\" % (time.time() - start_time))"
   ]
  },
  {
   "cell_type": "code",
   "execution_count": null,
   "metadata": {},
   "outputs": [],
   "source": []
  }
 ],
 "metadata": {
  "colab": {
   "collapsed_sections": [],
   "name": "Filtering.ipynb",
   "provenance": []
  },
  "kernelspec": {
   "display_name": "Python 3",
   "language": "python",
   "name": "python3"
  },
  "language_info": {
   "codemirror_mode": {
    "name": "ipython",
    "version": 3
   },
   "file_extension": ".py",
   "mimetype": "text/x-python",
   "name": "python",
   "nbconvert_exporter": "python",
   "pygments_lexer": "ipython3",
   "version": "3.8.5"
  }
 },
 "nbformat": 4,
 "nbformat_minor": 1
}
